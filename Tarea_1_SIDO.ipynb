{
  "nbformat": 4,
  "nbformat_minor": 0,
  "metadata": {
    "colab": {
      "provenance": []
    },
    "kernelspec": {
      "name": "python3",
      "display_name": "Python 3"
    },
    "language_info": {
      "name": "python"
    }
  },
  "cells": [
    {
      "cell_type": "markdown",
      "source": [
        "# Integrantes:\n",
        "\n",
        "\n",
        "*   Tello Torres Sarahi Lilian\n",
        "*   Vazquez Huesca Naomi\n",
        "*   Islas Andrea\n",
        "*   De la Parra Farid\n",
        "\n"
      ],
      "metadata": {
        "id": "aWPhP0KMi59h"
      }
    },
    {
      "cell_type": "markdown",
      "source": [
        "# Ejercicio 1"
      ],
      "metadata": {
        "id": "FsfZmaFmQAEA"
      }
    },
    {
      "cell_type": "code",
      "execution_count": null,
      "metadata": {
        "id": "XI-QIsUJgNfk",
        "colab": {
          "base_uri": "https://localhost:8080/"
        },
        "outputId": "34a982a8-9720-4df1-f00d-9036a69873d0"
      },
      "outputs": [
        {
          "output_type": "stream",
          "name": "stdout",
          "text": [
            "2\n",
            "5 2 1\n",
            "2\n",
            "5 2 2\n",
            "3\n"
          ]
        }
      ],
      "source": [
        "def saveThePrisoner(n, m, s):\n",
        "    # Calculamos la silla en la que se encuentra el prisionero que recibirá el caramelo amargo.\n",
        "    # Restamos 1 de 's' para ajustar al índice base 0 y luego calculamos el residuo con respecto a 'n'.\n",
        "    # Sumamos 1 para volver al índice base 1.\n",
        "    silla = ((s - 1 + m - 1) % n) + 1\n",
        "    return silla\n",
        "\n",
        "# Leer el número de casos de prueba\n",
        "t = int(input().strip())\n",
        "\n",
        "for _ in range(t):\n",
        "    n, m, s = map(int, input().strip().split())\n",
        "    resultado = saveThePrisoner(n, m, s)\n",
        "    print(resultado)\n"
      ]
    },
    {
      "cell_type": "markdown",
      "source": [
        "# Codigo en HackerRank\n",
        "\n",
        "\n",
        "```\n",
        "#!/bin/python3\n",
        "\n",
        "import math\n",
        "import os\n",
        "import random\n",
        "import re\n",
        "import sys\n",
        "\n",
        "#\n",
        "# Complete the 'saveThePrisoner' function below.\n",
        "#\n",
        "# The function is expected to return an INTEGER.\n",
        "# The function accepts following parameters:\n",
        "#  1. INTEGER n\n",
        "#  2. INTEGER m\n",
        "#  3. INTEGER s\n",
        "#\n",
        "#!/bin/python3\n",
        "\n",
        "import os\n",
        "import sys\n",
        "\n",
        "def saveThePrisoner(n, m, s):\n",
        "    silla = ((s - 1 + m - 1) % n) + 1\n",
        "    return silla\n",
        "\n",
        "if __name__ == '__main__':\n",
        "    fptr = open(os.environ['OUTPUT_PATH'], 'w')\n",
        "\n",
        "    t = int(input().strip())\n",
        "\n",
        "    for t_itr in range(t):\n",
        "        first_multiple_input = input().rstrip().split()\n",
        "\n",
        "        n = int(first_multiple_input[0])\n",
        "\n",
        "        m = int(first_multiple_input[1])\n",
        "\n",
        "        s = int(first_multiple_input[2])\n",
        "\n",
        "        result = saveThePrisoner(n, m, s)\n",
        "\n",
        "        fptr.write(str(result) + '\\n')\n",
        "\n",
        "    fptr.close()\n",
        "```\n",
        "\n"
      ],
      "metadata": {
        "id": "uAcNVtk8QZWr"
      }
    },
    {
      "cell_type": "markdown",
      "source": [
        "# Ejercicio 2"
      ],
      "metadata": {
        "id": "We7uy6-LP6kh"
      }
    },
    {
      "cell_type": "code",
      "source": [
        "def theLoveLetterMystery(s):\n",
        "    # Inicializar el contador de operaciones en 0\n",
        "    operaciones = 0\n",
        "    # Inicializar los índices izquierdo y derecho al comienzo y final de la cadena\n",
        "    izquierdo = 0\n",
        "    derecho = len(s) - 1\n",
        "\n",
        "    # Mientras el índice izquierdo sea menor que el índice derecho, continúa el bucle\n",
        "    while izquierdo < derecho:\n",
        "        # Obtener los caracteres en las posiciones izquierda y derecha\n",
        "        caracter_izq = s[izquierdo]\n",
        "        caracter_der = s[derecho]\n",
        "\n",
        "        # Calcular la diferencia absoluta entre los valores ASCII de los caracteres\n",
        "        operaciones += abs(ord(caracter_izq) - ord(caracter_der))\n",
        "\n",
        "        # Mover el índice izquierdo hacia la derecha y el índice derecho hacia la izquierda\n",
        "        izquierdo += 1\n",
        "        derecho -= 1\n",
        "\n",
        "    # Devolver el número total de operaciones\n",
        "    return operaciones\n"
      ],
      "metadata": {
        "id": "YSAv2YzYgQ2r"
      },
      "execution_count": null,
      "outputs": []
    },
    {
      "cell_type": "markdown",
      "source": [
        "Probamos la función:"
      ],
      "metadata": {
        "id": "-9Jb2UhdSpR1"
      }
    },
    {
      "cell_type": "code",
      "source": [
        "# Leer el número de consultas\n",
        "q = int(input().strip())\n",
        "\n",
        "# Leer cada consulta y calcular el número mínimo de operaciones\n",
        "for q_itr in range(q):\n",
        "    s = input()\n",
        "    resultado = theLoveLetterMystery(s)\n",
        "    print(resultado)"
      ],
      "metadata": {
        "id": "gn9d9xtWSMEV",
        "colab": {
          "base_uri": "https://localhost:8080/"
        },
        "outputId": "7b012a67-417b-4d85-b4a9-021421d04d0c"
      },
      "execution_count": null,
      "outputs": [
        {
          "output_type": "stream",
          "name": "stdout",
          "text": [
            "4\n",
            "abc\n",
            "2\n",
            "abcba\n",
            "0\n",
            "abcd\n",
            "4\n",
            "cba\n",
            "2\n"
          ]
        }
      ]
    },
    {
      "cell_type": "markdown",
      "source": [
        "# Código en HackerRank:\n",
        "\n",
        "\n",
        "\n",
        "```\n",
        "#!/bin/python3\n",
        "\n",
        "import math\n",
        "import os\n",
        "import random\n",
        "import re\n",
        "import sys\n",
        "\n",
        "def theLoveLetterMystery(s):\n",
        "    operaciones = 0\n",
        "    izquierdo = 0\n",
        "    derecho = len(s) - 1\n",
        "    \n",
        "    while izquierdo < derecho:\n",
        "        caracter_izq = s[izquierdo]\n",
        "        caracter_der = s[derecho]\n",
        "        \n",
        "        operaciones += abs(ord(caracter_izq) - ord(caracter_der))\n",
        "        \n",
        "        izquierdo += 1\n",
        "        derecho -= 1\n",
        "    \n",
        "    return operaciones\n",
        "\n",
        "if __name__ == '__main__':\n",
        "    fptr = open(os.environ['OUTPUT_PATH'], 'w')\n",
        "\n",
        "    q = int(input().strip())\n",
        "\n",
        "    for q_itr in range(q):\n",
        "        s = input()\n",
        "\n",
        "        result = theLoveLetterMystery(s)\n",
        "\n",
        "        fptr.write(str(result) + '\\n')\n",
        "\n",
        "    fptr.close()\n",
        "```\n",
        "\n",
        "\n"
      ],
      "metadata": {
        "id": "ABhtGNdPTuXY"
      }
    },
    {
      "cell_type": "markdown",
      "source": [
        "# Ejercicio 3"
      ],
      "metadata": {
        "id": "SrpMsHQGQHCG"
      }
    },
    {
      "cell_type": "code",
      "source": [
        "def closestNumbers(arr):\n",
        "    # Ordenar la lista de números en orden ascendente\n",
        "    arr.sort()\n",
        "\n",
        "    # Inicializar la diferencia mínima y una lista para almacenar los pares de números\n",
        "    min_diff = float('inf')  # Inicializamos con un valor infinito para asegurarnos de encontrar una diferencia menor\n",
        "    pares = []  # Lista para almacenar los pares de números\n",
        "\n",
        "    # Recorrer la lista y encontrar la diferencia mínima\n",
        "    for i in range(len(arr) - 1):\n",
        "        diff = arr[i+1] - arr[i]  # Calculamos la diferencia entre elementos adyacentes\n",
        "\n",
        "        # Si la diferencia es menor que la mínima actual, actualizamos la mínima\n",
        "        if diff < min_diff:\n",
        "            min_diff = diff\n",
        "            pares = [(arr[i], arr[i+1])]  # Reemplazamos la lista de pares con un nuevo par\n",
        "        # Si la diferencia es igual a la mínima actual, agregamos el par a la lista\n",
        "        elif diff == min_diff:\n",
        "            pares.append((arr[i], arr[i+1]))  # Agregamos el par a la lista\n",
        "\n",
        "    # Convertir la lista de pares en una lista plana\n",
        "    resultado = [item for par in pares for item in par]\n",
        "\n",
        "    return resultado\n",
        "\n",
        "# Leer la longitud de la lista y la lista de números\n",
        "n = int(input(\"Ingrese la longitud de la lista: \"))\n",
        "arr = list(map(int, input(\"Ingrese los números separados por espacios: \").split()))\n",
        "\n",
        "# Llamar a la función y mostrar el resultado\n",
        "resultado = closestNumbers(arr)\n",
        "print(*resultado)\n"
      ],
      "metadata": {
        "id": "4iHJE_KLU5Dc",
        "outputId": "f1c13366-bd84-4254-977b-b617850bb933",
        "colab": {
          "base_uri": "https://localhost:8080/"
        }
      },
      "execution_count": null,
      "outputs": [
        {
          "output_type": "stream",
          "name": "stdout",
          "text": [
            "Ingrese la longitud de la lista: 4\n",
            "Ingrese los números separados por espacios: 5 4 3 2\n",
            "2 3 3 4 4 5\n"
          ]
        }
      ]
    },
    {
      "cell_type": "markdown",
      "source": [
        "# Código en HackerRank\n",
        "\n",
        "\n",
        "\n",
        "```\n",
        "#!/bin/python3\n",
        "\n",
        "import math\n",
        "import os\n",
        "import random\n",
        "import re\n",
        "import sys\n",
        "\n",
        "def closestNumbers(arr):\n",
        "    arr.sort()\n",
        "    min_diff = float('inf')\n",
        "    pares = []\n",
        "    \n",
        "    for i in range(len(arr) - 1):\n",
        "        diff = arr[i+1] - arr[i]\n",
        "        \n",
        "        if diff < min_diff:\n",
        "            min_diff = diff\n",
        "            pares = [(arr[i], arr[i+1])]\n",
        "        elif diff == min_diff:\n",
        "            pares.append((arr[i], arr[i+1]))\n",
        "    \n",
        "    resultado = [item for par in pares for item in par]\n",
        "    \n",
        "    return resultado\n",
        "\n",
        "if __name__ == '__main__':\n",
        "    fptr = open(os.environ['OUTPUT_PATH'], 'w')\n",
        "\n",
        "    n = int(input().strip())\n",
        "    arr = list(map(int, input().rstrip().split()))\n",
        "    resultado = closestNumbers(arr)\n",
        "\n",
        "    fptr.write(' '.join(map(str, resultado)))\n",
        "    fptr.write('\\n')\n",
        "    fptr.close()\n",
        "\n",
        "```\n",
        "\n"
      ],
      "metadata": {
        "id": "HJOKLNyoU3-s"
      }
    },
    {
      "cell_type": "markdown",
      "source": [
        "# Ejercicio 4"
      ],
      "metadata": {
        "id": "UNxBREXOEzN9"
      }
    },
    {
      "cell_type": "markdown",
      "source": [
        "El código siguiente es un pequeño intento que me ayudó a plantear correctamente el problema :)"
      ],
      "metadata": {
        "id": "Ruf0AYK8G3aU"
      }
    },
    {
      "cell_type": "code",
      "source": [
        "#Dados dos arreglos de números enteros, hay que encontrar los números que faltan en el segundo arreglo del primero.\n",
        "a = [7,2,5,3,5,3]\n",
        "b = [7,2,5,4,6,3,5,3]\n",
        "n = len(a)\n",
        "m = len(b)\n",
        "#Podríamos creer que este ejercicio se puede solucionar con un ciclo for que compare cada elemento de los\n",
        "# arreglos y al no encontrar uno, va a proceder a imprimirlo\n",
        "for i in range(m):\n",
        "        for j in range(n):\n",
        "            if (b[i] == a[j]):\n",
        "                break\n",
        "        if (j == n - 1):\n",
        "            print(b[i], end = \" \")\n",
        "print()\n",
        "#Sin embargo si colocamos un arreglo con los mismos números, pero que en el segundo se repitan, este código NO\n",
        "#detecta eso y termina dando un resultado erróneo\n",
        "x =[203, 204, 205, 206, 207, 208, 203, 204, 205, 206]\n",
        "y = [203, 204, 204, 205, 206, 207, 205, 208, 203, 206, 205, 206, 204]\n",
        "z = len(x)\n",
        "w = len(y)\n",
        "for i in range(w):\n",
        "        for j in range(z):\n",
        "            if (y[i] == x[j]):\n",
        "                break\n",
        "        if (j == n - 1):\n",
        "            print(y[i], end = \" \")"
      ],
      "metadata": {
        "colab": {
          "base_uri": "https://localhost:8080/"
        },
        "id": "JKrweLkJGwsZ",
        "outputId": "36e3dde4-360f-4e51-8311-f76fb7530275"
      },
      "execution_count": null,
      "outputs": [
        {
          "output_type": "stream",
          "name": "stdout",
          "text": [
            "4 6 \n",
            "208 "
          ]
        }
      ]
    },
    {
      "cell_type": "code",
      "source": [
        "#Dados dos arreglos de números enteros, hay que encontrar los números que faltan en el segundo arreglo del primero.\n",
        "#Entonces necesitamos considerar la cantidad de veces que se encuentra un elemento en cada uno de los arreglos (por el pequeño código de arriba)\n",
        "#Definimos nuestra función como se pide en hackerRank :)\n",
        "\n",
        "def missingNumbers(arr, brr):\n",
        "\n",
        "    #Definimos nuestras # de veces en dos diccionarios (uno para cada arreglo)\n",
        "\n",
        "    vecesenArr = {}\n",
        "    vecesenBrr = {}\n",
        "\n",
        "    #Rellenamos dichos diccionarios con un ciclo for que contendrá un if...else\n",
        "\n",
        "    for i in arr:\n",
        "        if i in vecesenArr:\n",
        "            vecesenArr[i] += 1\n",
        "        else:\n",
        "            vecesenArr[i] = 1\n",
        "\n",
        "    for i in brr:\n",
        "        if i in vecesenBrr:\n",
        "            vecesenBrr[i] += 1\n",
        "        else:\n",
        "            vecesenBrr[i] = 1\n",
        "\n",
        "    #Ahora para encontrar los números que faltan, para que el formato se vea bien, vamos a usar una\n",
        "    #nueva lista en la que agregaremos los elementos que no se encuentran en arr de brr\n",
        "\n",
        "    numsquefaltan= []\n",
        "\n",
        "    #Con un ciclo for vamos a buscar los elementos que se encuentran en brr y no están en arr, y tendremos\n",
        "    #un if... elif\n",
        "    for i in vecesenBrr:\n",
        "\n",
        "        #En este caso si el elemento(que esta en brr) no está en arr, lo agregamos a nuestra lista\n",
        "\n",
        "        if i not in vecesenArr:\n",
        "            numsquefaltan.append(i)\n",
        "\n",
        "        #Y este caso es el que nos faltaba en el anterior código, si el elemento aparece más veces en brr que en arr\n",
        "        #tambíen se va a agregar nuestra lista :O\n",
        "\n",
        "        elif vecesenArr[i] < vecesenBrr[i]:\n",
        "            numsquefaltan.append(i)\n",
        "\n",
        "        #Está línea es para ordena los elementos de la lista y se vean más bonitos :)\n",
        "        numsquefaltan.sort()\n",
        "\n",
        "    return numsquefaltan\n",
        "\n",
        "#Revisando el código con los dos ejemplos que da hackerRank :)\n",
        "\n",
        "arr = [203, 204, 205, 206, 207, 208, 203, 204, 205, 206]\n",
        "brr= [203, 204, 204, 205, 206, 207, 205, 208, 203, 206, 205, 206, 204]\n",
        "\n",
        "crr = [7,2,5,3,5,3]\n",
        "drr = [7,2,5,4,6,3,5,3]\n",
        "numsquefaltan1 = missingNumbers(arr, brr)\n",
        "numsquefaltan2 = missingNumbers(crr, drr)\n",
        "print(numsquefaltan1)\n",
        "print()\n",
        "print(numsquefaltan2)"
      ],
      "metadata": {
        "colab": {
          "base_uri": "https://localhost:8080/"
        },
        "id": "3wRhHUsWE44a",
        "outputId": "4ea2a206-66ea-45db-8fd9-6219692d8219"
      },
      "execution_count": null,
      "outputs": [
        {
          "output_type": "stream",
          "name": "stdout",
          "text": [
            "[204, 205, 206]\n",
            "\n",
            "[4, 6]\n"
          ]
        }
      ]
    },
    {
      "cell_type": "markdown",
      "source": [
        "# Ejercicio 5"
      ],
      "metadata": {
        "id": "dIWS5FRkgR2z"
      }
    },
    {
      "cell_type": "code",
      "source": [
        "#Casos en los que no es posible sacar la combinaciones minimas\n",
        "if n in [1,2,4,7]:\n",
        "    print(-1)\n",
        "#Asumimos que todo entero puede componerse tal que 5x+3y=n (x,y,n enteros)\n",
        "#Con las excepciones ya mencionadas en el paso anterior\n",
        "#Además buscamos maximizar el numero de 5 de ser posible\n",
        "\n",
        "#Casos en los que n es múltiplo directo de 3, tiene prioridad al imprimir puros 5\n",
        "elif n%3 == 0:\n",
        "    print('5'*n)\n",
        "#Buscamos maximizar los 5 en el numero dado que n no es divisible ntre 3,\n",
        "#entonces si n-5 es divisible entre 3, entonces solo los 3 últimos digitos seran 3\n",
        "elif (n-5)%3 == 0:\n",
        "    print('5'*(n-5) + '3'*5)\n",
        "#Mismo caso para n-10\n",
        "elif (n-10)%3 == 0:\n",
        "    print('5'*(n-10) + '3'*10)\n",
        "#Dado que las últimas combinaciones no fueron factibles,\n",
        "#queda dividir directamente entre 5\n",
        "elif n%5 == 0:\n",
        "    print('3'*n)"
      ],
      "metadata": {
        "colab": {
          "base_uri": "https://localhost:8080/"
        },
        "id": "7GRRjOx5gQ8-",
        "outputId": "821c8b21-0560-408f-d961-5f01aad1ff3d"
      },
      "execution_count": null,
      "outputs": [
        {
          "output_type": "stream",
          "name": "stdout",
          "text": [
            "33333\n"
          ]
        }
      ]
    },
    {
      "cell_type": "markdown",
      "source": [
        "#Ejercicio 6"
      ],
      "metadata": {
        "id": "hBmOO9Eq2bri"
      }
    },
    {
      "cell_type": "code",
      "source": [
        "def fibonacciModificado(t1, t2, n):\n",
        "    secuencia_fibonacci = [t1, t2]\n",
        "\n",
        "    for _ in range(2, n):\n",
        "        siguiente_termino = secuencia_fibonacci[-2] + (secuencia_fibonacci[-1] ** 2)\n",
        "        secuencia_fibonacci.append(siguiente_termino)\n",
        "\n",
        "    return secuencia_fibonacci[n - 1]\n",
        "\n",
        "# Leer los valores de entrada t1, t2 y n\n",
        "t1, t2, n = map(int, input().split())\n",
        "\n",
        "# Calcular y mostrar el término n de la secuencia modificada de Fibonacci\n",
        "resultado = fibonacciModificado(t1, t2, n)\n",
        "print(resultado)\n"
      ],
      "metadata": {
        "id": "4vtgM8KD2Yv2",
        "colab": {
          "base_uri": "https://localhost:8080/"
        },
        "outputId": "645cd17a-4591-46a0-baa1-00ebe9c9f759"
      },
      "execution_count": null,
      "outputs": [
        {
          "output_type": "stream",
          "name": "stdout",
          "text": [
            "0 1 5\n",
            "5\n"
          ]
        }
      ]
    },
    {
      "cell_type": "markdown",
      "source": [
        "# Código en HackerRank\n",
        "\n",
        "\n",
        "```\n",
        "#!/bin/python3\n",
        "\n",
        "import math\n",
        "import os\n",
        "import random\n",
        "import re\n",
        "import sys\n",
        "\n",
        "#\n",
        "# Complete the 'fibonacciModified' function below.\n",
        "#\n",
        "# The function is expected to return an INTEGER.\n",
        "# The function accepts following parameters:\n",
        "#  1. INTEGER t1\n",
        "#  2. INTEGER t2\n",
        "#  3. INTEGER n\n",
        "#\n",
        "\n",
        "def fibonacciModified(t1, t2, n):\n",
        "    fibonacci_sequence = [t1, t2]\n",
        "    \n",
        "    for _ in range(2, n):\n",
        "        next_term = fibonacci_sequence[-2] + (fibonacci_sequence[-1] ** 2)\n",
        "        fibonacci_sequence.append(next_term)\n",
        "    \n",
        "    return fibonacci_sequence[n - 1]\n",
        "\n",
        "if __name__ == '__main__':\n",
        "    fptr = open(os.environ['OUTPUT_PATH'], 'w')\n",
        "\n",
        "    first_multiple_input = input().rstrip().split()\n",
        "\n",
        "    t1 = int(first_multiple_input[0])\n",
        "\n",
        "    t2 = int(first_multiple_input[1])\n",
        "\n",
        "    n = int(first_multiple_input[2])\n",
        "\n",
        "    result = fibonacciModified(t1, t2, n)\n",
        "\n",
        "    fptr.write(str(result) + '\\n')\n",
        "\n",
        "    fptr.close()\n",
        "```\n"
      ],
      "metadata": {
        "id": "m365PuKqKxwN"
      }
    },
    {
      "cell_type": "code",
      "source": [],
      "metadata": {
        "id": "vf18e7skgRCa"
      },
      "execution_count": null,
      "outputs": []
    },
    {
      "cell_type": "markdown",
      "source": [
        "#Ejercicio 7\n"
      ],
      "metadata": {
        "id": "Uo2L8klc2jKa"
      }
    },
    {
      "cell_type": "code",
      "source": [
        "def minimumBribes(q):\n",
        "    sobornos = 0  # Inicializar el contador de sobornos\n",
        "\n",
        "    for i in range(len(q)):  # Iterar a través de la cola q\n",
        "        if q[i] - (i + 1) > 2:\n",
        "            # Si la diferencia entre la posición actual y la posición original del elemento es mayor que 2,\n",
        "            # significa que se han realizado más de 2 sobornos, lo cual no está permitido.\n",
        "            print(\"Too chaotic\")\n",
        "            return\n",
        "\n",
        "        for j in range(max(0, q[i] - 2), i):\n",
        "            # Iterar desde la posición máxima posible antes de la posición actual hasta la posición actual.\n",
        "            # Esto nos permite contar cuántos elementos mayores que el elemento actual están delante de él.\n",
        "            if q[j] > q[i]:\n",
        "                sobornos += 1  # Incrementar el contador de sobornos\n",
        "\n",
        "    print(sobornos)  # Imprimir el número total de sobornos\n",
        "\n",
        "# Leer el número de casos de prueba\n",
        "t = int(input().strip())\n",
        "\n",
        "for _ in range(t):\n",
        "    n = int(input().strip())  # Leer la longitud de la cola\n",
        "    q = list(map(int, input().strip().split()))  # Leer la cola como una lista de enteros\n",
        "    minimumBribes(q)  # Llamar a la función minimumBribes para procesar la cola\n"
      ],
      "metadata": {
        "id": "kR1s-UeAaFg4",
        "colab": {
          "base_uri": "https://localhost:8080/"
        },
        "outputId": "4104b47b-750e-4e19-cfdc-51e606508a62"
      },
      "execution_count": null,
      "outputs": [
        {
          "output_type": "stream",
          "name": "stdout",
          "text": [
            "2\n",
            "5\n",
            "2 1 5 3 4\n",
            "3\n",
            "5\n",
            "2 5 1 3 4\n",
            "Too chaotic\n"
          ]
        }
      ]
    },
    {
      "cell_type": "markdown",
      "source": [
        "# Código en HackerRank\n",
        "\n",
        "\n",
        "```\n",
        "#!/bin/python3\n",
        "\n",
        "import math\n",
        "import os\n",
        "import random\n",
        "import re\n",
        "import sys\n",
        "\n",
        "#\n",
        "# Complete the 'minimumBribes' function below.\n",
        "#\n",
        "# The function accepts INTEGER_ARRAY q as parameter.\n",
        "#\n",
        "\n",
        "def minimumBribes(q):\n",
        "    bribes = 0\n",
        "    \n",
        "    for i in range(len(q)):\n",
        "        if q[i] - (i + 1) > 2:\n",
        "            print(\"Too chaotic\")\n",
        "            return\n",
        "        \n",
        "        for j in range(max(0, q[i] - 2), i):\n",
        "            if q[j] > q[i]:\n",
        "                bribes += 1\n",
        "                \n",
        "    print(bribes)\n",
        "\n",
        "if __name__ == '__main__':\n",
        "    t = int(input().strip())\n",
        "\n",
        "    for t_itr in range(t):\n",
        "        n = int(input().strip())\n",
        "\n",
        "        q = list(map(int, input().rstrip().split()))\n",
        "\n",
        "        minimumBribes(q)\n",
        "```\n",
        "\n"
      ],
      "metadata": {
        "id": "2kj4HfmTMMvX"
      }
    },
    {
      "cell_type": "markdown",
      "source": [
        "# Ejercicio 8"
      ],
      "metadata": {
        "id": "GHZgvS7XQLsX"
      }
    },
    {
      "cell_type": "code",
      "source": [
        "def superDigit(n, k):\n",
        "    # Write your code here\n",
        "    n=str(n) #pasamos n de int a str\n",
        "    Lista_Int=list(map(int,n)) #hacemos una lista con los digitos en valores enteros\n",
        "    if sum(Lista_Int)*k<10: #entra solo si la suma tiene de resultado un num. de un digito\n",
        "        return sum(Lista_Int)\n",
        "    else:\n",
        "        return superDigit(sum(Lista_Int)*k,1) #recursion"
      ],
      "metadata": {
        "id": "k4AXD-avQLdF"
      },
      "execution_count": null,
      "outputs": []
    },
    {
      "cell_type": "markdown",
      "source": [
        "# Ejercicio 9"
      ],
      "metadata": {
        "id": "6PpGsO_BQO04"
      }
    },
    {
      "cell_type": "code",
      "source": [
        "def gameOfStones(n):\n",
        "    # Creamos un arreglo para almacenar los resultados de los subproblemas\n",
        "    dp = [False] * (n + 1)\n",
        "\n",
        "    # Inicializamos los casos base\n",
        "    dp[0] = False  # Si no hay piedras, el segundo jugador gana\n",
        "    dp[1] = False  # Si hay una piedra, el segundo jugador gana\n",
        "\n",
        "    for i in range(2, n + 1):\n",
        "        # El jugador actual (el primero) intentará tomar 2, 3 o 5 piedras\n",
        "        # Si en alguno de estos casos el siguiente jugador (el segundo) pierde, entonces el primer jugador gana\n",
        "        if i >= 2 and not dp[i - 2]:\n",
        "            dp[i] = True\n",
        "        elif i >= 3 and not dp[i - 3]:\n",
        "            dp[i] = True\n",
        "        elif i >= 5 and not dp[i - 5]:\n",
        "            dp[i] = True\n",
        "\n",
        "    return \"First\" if dp[n] else \"Second\"\n",
        "\n",
        "# Leer el número de casos de prueba\n",
        "t = int(input())\n",
        "\n",
        "# Leer y procesar cada caso de prueba\n",
        "for _ in range(t):\n",
        "    n = int(input())\n",
        "    winner = gameOfStones(n)\n",
        "    print(winner)\n"
      ],
      "metadata": {
        "id": "T8SJGsQdQSOl",
        "colab": {
          "base_uri": "https://localhost:8080/"
        },
        "outputId": "8819145c-b1a1-4f63-bca7-b31dedf1c6fc"
      },
      "execution_count": null,
      "outputs": [
        {
          "output_type": "stream",
          "name": "stdout",
          "text": [
            "8\n",
            "1\n",
            "Second\n",
            "2\n",
            "First\n",
            "3\n",
            "First\n",
            "4\n",
            "First\n",
            "5\n",
            "First\n",
            "6\n",
            "First\n",
            "7\n",
            "Second\n",
            "10\n",
            "First\n"
          ]
        }
      ]
    },
    {
      "cell_type": "markdown",
      "source": [
        "# Código en HackerRank\n",
        "\n",
        "\n",
        "\n",
        "```\n",
        "#!/bin/python3\n",
        "\n",
        "import math\n",
        "import os\n",
        "import random\n",
        "import re\n",
        "import sys\n",
        "\n",
        "#\n",
        "# Complete the 'gameOfStones' function below.\n",
        "#\n",
        "# The function is expected to return a STRING.\n",
        "# The function accepts INTEGER n as parameter.\n",
        "#\n",
        "\n",
        "def gameOfStones(n):\n",
        "    dp = [False] * (n + 1)\n",
        "    \n",
        "    dp[0] = False\n",
        "    dp[1] = False\n",
        "    \n",
        "    for i in range(2, n + 1):\n",
        "        if i >= 2 and not dp[i - 2]:\n",
        "            dp[i] = True\n",
        "        elif i >= 3 and not dp[i - 3]:\n",
        "            dp[i] = True\n",
        "        elif i >= 5 and not dp[i - 5]:\n",
        "            dp[i] = True\n",
        "\n",
        "    return \"First\" if dp[n] else \"Second\"\n",
        "\n",
        "if __name__ == '__main__':\n",
        "    fptr = open(os.environ['OUTPUT_PATH'], 'w')\n",
        "\n",
        "    t = int(input().strip())\n",
        "\n",
        "    for t_itr in range(t):\n",
        "        n = int(input().strip())\n",
        "\n",
        "        result = gameOfStones(n)\n",
        "\n",
        "        fptr.write(result + '\\n')\n",
        "\n",
        "    fptr.close()\n",
        "```\n",
        "\n",
        "\n"
      ],
      "metadata": {
        "id": "wqCGLELdHGH-"
      }
    },
    {
      "cell_type": "markdown",
      "source": [
        "# Ejercicio 10"
      ],
      "metadata": {
        "id": "-_AQg65rFOXA"
      }
    },
    {
      "cell_type": "code",
      "source": [
        "#Dos jugador se encuntran jugando \"Tower Breakers\", el primer jugador siempre se mueve primero y\n",
        "#ambos jugadores eficientemente. Las reglas del juego son las siguientes:\n",
        "#1.Inicialmente hay n torres\n",
        "#2.Cada torre tiene una altura m\n",
        "#3.Los jugadores se alternan los turnos\n",
        "#4.En cada turno, un jugador puede escoger una torre de altura x que podrá disminuir a una altura y, donde 1<=y<x, y divide enteramente a x\n",
        "#5.Si el jugador en turno, ya no puede hacer otro movimiento, pierde automáticamente\n",
        "#Dados los valores n,m, determina cual de los jugadores va a ganar, si es el jugador uno hay que regresar 1 y si es otro caso\n",
        "#se regresa 2\n",
        "\n",
        "#Definimos la función como nos recomienda hackerRank\n",
        "def towerBreakers(n, m):\n",
        "    #Tenemos un problema que se podría ver como un máximo común divisor, entonces tenemos un caso principal en el que\n",
        "    # m sea distinto a 1, puesto que no podemos dividir al 1 a un entero más pequeño que él.\n",
        "    if m!=1:\n",
        "        #Si n es congruente a 0, entonces entra en lo que definimos como \"otros casos de resultados\" y tendremos 2\n",
        "        if n%2==0:\n",
        "            return 2\n",
        "        #Si gana 1, regresamos el 1 :)\n",
        "        else:\n",
        "            return 1\n",
        "    #Aquí m toma el valor a 1, y por ende se termina el juego, obteniendo otro caso que no es de nuestro interés\n",
        "    else:\n",
        "        return 2\n",
        "#Probando el código con el ejemplo de hackerRank\n",
        "towerBreakers(2,6)"
      ],
      "metadata": {
        "id": "eU4ntINCFRIb",
        "outputId": "bdfda1f0-705c-4e11-9306-e0107f2d47cd",
        "colab": {
          "base_uri": "https://localhost:8080/"
        }
      },
      "execution_count": null,
      "outputs": [
        {
          "output_type": "execute_result",
          "data": {
            "text/plain": [
              "2"
            ]
          },
          "metadata": {},
          "execution_count": 17
        }
      ]
    }
  ]
}